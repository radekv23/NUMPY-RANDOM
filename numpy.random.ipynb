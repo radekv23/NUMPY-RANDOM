{
 "cells": [
  {
   "cell_type": "markdown",
   "metadata": {},
   "source": [
    "# Practical Assignment - Programming for Data Analysis\n",
    "By Radek Wojtczak G00352936\n",
    "\n",
    "**Numpy.Random Package**\n",
    "\n",
    "In this notebook I will answer and discuss following points:\n",
    "\n",
    "1.The purpose of Numpy.Random package<br>\n",
    "2.Explanation of 'Simple random data' and 'Permutations' functions<br>\n",
    "3.Use and purpose of 'Distributions' functions such as uniform, normal, logistic, geometric, exponential and more.<br>\n",
    "4.Why use seeds in generating pseudorandom numbers."
   ]
  },
  {
   "cell_type": "markdown",
   "metadata": {},
   "source": [
    "## 1.The purpose of Numpy.Random package<br><br>\n",
    "\n",
    "### What is a Random Number?\n",
    "Random number does NOT mean a different number every time. Random means something that can not be predicted logically.<br>\n",
    "\n",
    "### Numpy.random\n",
    "is a sub package of the numpy package. The random sub package is used to generate arrays of random numbers according to different statistical probability distributions across different intervals. Numpy.random uses multi-dimensional arrays. These ndarray objects allow you to store multiple items of the same data type. These are very efficient and have added functionality making them very easy to manipulate and convenient to work with.\n",
    "\n",
    "The *numpy.ramdom* package contains four sections. The simple random data section contains 10 different functions to generate a variety of sample random data. The permutation sections contains 2 functions to shuffle or rearrange data. The distribution section contains 35 functions generating random data according to their respective statistical distribution. The random generator section containing four functions relating to the seed.\n",
    "\n",
    "They are many uses of random numbers in computing and analytics. Many elements of statistical practice depend on randomness via random numbers. Without these there is a risk that the statistical analysis could suffer from systematic bias. Simulation is used to get the results of experiments from generating random numbers simulation the events. A key use of unpredictable random numbers is in cryptogoraphy.<br>\n",
    "\n",
    "### Pseudo Random and True Random.\n",
    "Computers work on programs, and programs are definitive set of instructions. So it means there must be some algorithm to generate a random number as well.\n",
    "\n",
    "If there is a program to generate random number it can be predicted, that means it is not truly random.\n",
    "\n",
    "Random numbers generated through a generation algorithm are called pseudo random.\n",
    "\n",
    "Can we make truly random numbers?\n",
    "\n",
    "Yes. In order to generate a truly random number on our computers we need to get the random data from some outside source. This outside source is generally our keystrokes, mouse movements, data on network etc.\n",
    "\n",
    "We do not need truly random numbers, unless its related to security (e.g. encryption keys) or the basis of application is the randomness (e.g. Digital roulette wheels).\n"
   ]
  },
  {
   "cell_type": "markdown",
   "metadata": {},
   "source": [
    "## 2. Explanation of 'Simple random data' and 'Permutations' functions<br><br>\n",
    "\n",
    "###  'Simple random data'\n",
    "\n",
    "**Importing packages:**"
   ]
  },
  {
   "cell_type": "code",
   "execution_count": 1,
   "metadata": {},
   "outputs": [],
   "source": [
    "import random\n",
    "import numpy as np\n",
    "import matplotlib.pyplot as plt\n",
    "\n",
    "# Seaborn settings\n",
    "import seaborn as sns\n",
    "rc={'lines.linewidth': 2, 'axes.labelsize': 18, 'axes.titlesize': 18}\n",
    "sns.set(rc=rc)\n",
    "\n",
    "# Jupyter notebooks magic\n",
    "%matplotlib inline\n",
    "%config InlineBackend.figure_formats = {'png', 'retina'}"
   ]
  },
  {
   "cell_type": "markdown",
   "metadata": {},
   "source": [
    "**rand(d0, d1, ..., dn)**<br>\n",
    "This method generates random numbers in a given shape. The numbers specified in the rand() function correspond to the number of dimensions of the array that is to be generated. When no numbers are specified in the function, a random value will be generated.<br><br>\n",
    "Examples are given below:"
   ]
  },
  {
   "cell_type": "code",
   "execution_count": 2,
   "metadata": {
    "scrolled": false
   },
   "outputs": [
    {
     "name": "stdout",
     "output_type": "stream",
     "text": [
      "A random number: 0.6159636088401917\n",
      "A random array: [0.51352694 0.1487961  0.32138122 0.30964442 0.81934413 0.01078868\n",
      " 0.44497826 0.82313234]\n",
      "A random 2D array: [[0.00901113 0.09294384 0.25586106]\n",
      " [0.05148581 0.38546776 0.63021566]]\n"
     ]
    }
   ],
   "source": [
    "print(\"A random number: {}\".format(np.random.rand()))\n",
    "print(\"A random array: {}\".format(np.random.rand(8)))\n",
    "print(\"A random 2D array: {}\".format(np.random.rand(2,3)))"
   ]
  },
  {
   "cell_type": "code",
   "execution_count": 3,
   "metadata": {},
   "outputs": [
    {
     "data": {
      "text/plain": [
       "(array([ 9963.,  9992.,  9942., 10044.,  9966., 10144.,  9909., 10011.,\n",
       "         9971., 10058.]),\n",
       " array([3.78717227e-05, 1.00033917e-01, 2.00029962e-01, 3.00026007e-01,\n",
       "        4.00022052e-01, 5.00018097e-01, 6.00014143e-01, 7.00010188e-01,\n",
       "        8.00006233e-01, 9.00002278e-01, 9.99998323e-01]),\n",
       " <a list of 10 Patch objects>)"
      ]
     },
     "execution_count": 3,
     "metadata": {},
     "output_type": "execute_result"
    },
    {
     "data": {
      "image/png": "[encoded data removed]",
      "text/plain": [
       "<Figure size 432x288 with 1 Axes>"
      ]
     },
     "metadata": {
      "image/png": {
       "height": 251,
       "width": 389
      },
      "needs_background": "light"
     },
     "output_type": "display_data"
    }
   ],
   "source": [
    "# Plot a histogram of the array showning how the random distribution plots equalyy\n",
    "a = np.random.rand(100000)\n",
    "plt.hist(a)"
   ]
  },
  {
   "cell_type": "markdown",
   "metadata": {},
   "source": [
    "**randn(d0, d1, …, dn)**<br>\n",
    "function creates an array of specified shape and fills it with random values as per standard normal distribution.\n",
    "\n",
    "If positive arguments are provided, randn generates an array of shape (d0, d1, …, dn), filled with random floats sampled from a univariate “normal” (Gaussian) distribution of mean 0 and variance 1 (if any of the d_i are floats, they are first converted to integers by truncation). A single float randomly sampled from the distribution is returned if no argument is provided.\n"
   ]
  },
  {
   "cell_type": "code",
   "execution_count": 4,
   "metadata": {
    "scrolled": true
   },
   "outputs": [
    {
     "data": {
      "text/plain": [
       "array([-0.03541508, -0.54418163,  1.3497888 , -1.0514019 ])"
      ]
     },
     "execution_count": 4,
     "metadata": {},
     "output_type": "execute_result"
    }
   ],
   "source": [
    "# 1D array:\n",
    "np.random.randn(4)"
   ]
  },
  {
   "cell_type": "code",
   "execution_count": 5,
   "metadata": {
    "scrolled": true
   },
   "outputs": [
    {
     "data": {
      "text/plain": [
       "array([[-1.7421514 ,  0.46006141,  0.21005844, -0.71318548],\n",
       "       [ 0.66484031,  1.39847273, -2.44742217,  1.24320557],\n",
       "       [ 0.26216677, -0.27448007,  0.16100808, -0.20813112]])"
      ]
     },
     "execution_count": 5,
     "metadata": {},
     "output_type": "execute_result"
    }
   ],
   "source": [
    "# 2D Array:\n",
    "np.random.randn(3,4)"
   ]
  },
  {
   "cell_type": "code",
   "execution_count": 6,
   "metadata": {},
   "outputs": [
    {
     "data": {
      "text/plain": [
       "array([[[-0.78721059, -0.19482332],\n",
       "        [ 1.11279461,  1.65964875]],\n",
       "\n",
       "       [[ 2.15301047, -0.25058239],\n",
       "        [-0.07612831, -1.15091024]]])"
      ]
     },
     "execution_count": 6,
     "metadata": {},
     "output_type": "execute_result"
    }
   ],
   "source": [
    "# 3D Array:   \n",
    "np.random.randn(2, 2 ,2)"
   ]
  },
  {
   "cell_type": "markdown",
   "metadata": {},
   "source": [
    "To demonstrate the distribution of the values selected by this function, we would call the function 10,000 times and plot histogram to visualise the spread of values. Values close to zero have a higher probability of being selected.\n"
   ]
  },
  {
   "cell_type": "code",
   "execution_count": 7,
   "metadata": {},
   "outputs": [
    {
     "data": {
      "image/png": "[encoded data removed]",
      "text/plain": [
       "<Figure size 432x288 with 1 Axes>"
      ]
     },
     "metadata": {
      "image/png": {
       "height": 251,
       "width": 383
      },
      "needs_background": "light"
     },
     "output_type": "display_data"
    }
   ],
   "source": [
    "dist = [np.random.randn() for i in range(10000)]\n",
    "# histogram plot of distribution\n",
    "plt.hist(dist, color=\"green\")\n",
    "plt.show()"
   ]
  },
  {
   "cell_type": "markdown",
   "metadata": {},
   "source": [
    "**randint(low[, high, size, dtype])**<br>\n",
    "\n",
    "This method generates random integers in the shape defined by size from low (inclusive) to high (exclusive) in the discrete uniform distribution. Optionally, we can also set the dtype as int64, int, or something else, with np.int being the default value.\n",
    "One thing to note is that when we don’t set the high argument, the numbers will be generated in the range of [0, low].\n"
   ]
  },
  {
   "cell_type": "code",
   "execution_count": 8,
   "metadata": {},
   "outputs": [
    {
     "data": {
      "text/plain": [
       "56"
      ]
     },
     "execution_count": 8,
     "metadata": {},
     "output_type": "execute_result"
    }
   ],
   "source": [
    "np.random.randint(100)"
   ]
  },
  {
   "cell_type": "code",
   "execution_count": 9,
   "metadata": {},
   "outputs": [
    {
     "data": {
      "text/plain": [
       "array([88, 61, 45, 26])"
      ]
     },
     "execution_count": 9,
     "metadata": {},
     "output_type": "execute_result"
    }
   ],
   "source": [
    "np.random.randint(1, 100, 4)"
   ]
  },
  {
   "cell_type": "code",
   "execution_count": 10,
   "metadata": {},
   "outputs": [
    {
     "data": {
      "text/plain": [
       "array([[16, 65, 45, 85],\n",
       "       [51, 58, 46, 61],\n",
       "       [35, 99, 30, 15],\n",
       "       [20, 47, 54, 95]])"
      ]
     },
     "execution_count": 10,
     "metadata": {},
     "output_type": "execute_result"
    }
   ],
   "source": [
    "np.random.randint(1, 100, (4, 4))"
   ]
  },
  {
   "cell_type": "markdown",
   "metadata": {},
   "source": [
    "**random_sample([size]), random([size]), ranf([size]), and sample([size])**<br>\n",
    "\n",
    "All of these functions are to generate random floats in the shape defined by size in the range of [0.0, 1,0), which is a continuous uniform distribution.\n",
    "One thing to note that as these random numbers are drawn from the continuous uniform distribution of [0.0, 1.0), and the mean of these numbers is around 0.5, which is the half of the sum of 0.0 and 1.0."
   ]
  },
  {
   "cell_type": "code",
   "execution_count": 11,
   "metadata": {},
   "outputs": [
    {
     "data": {
      "text/plain": [
       "array([0.27187519, 0.27148059, 0.78045102, 0.76820046])"
      ]
     },
     "execution_count": 11,
     "metadata": {},
     "output_type": "execute_result"
    }
   ],
   "source": [
    "np.random.random_sample(4)"
   ]
  },
  {
   "cell_type": "code",
   "execution_count": 12,
   "metadata": {},
   "outputs": [
    {
     "data": {
      "text/plain": [
       "array([[0.01213663, 0.45932871, 0.60725601, 0.34902094],\n",
       "       [0.80152507, 0.85417171, 0.74650736, 0.41901908],\n",
       "       [0.47255943, 0.41106642, 0.9842618 , 0.55879882],\n",
       "       [0.80509061, 0.30307487, 0.24887759, 0.47033322]])"
      ]
     },
     "execution_count": 12,
     "metadata": {},
     "output_type": "execute_result"
    }
   ],
   "source": [
    "np.random.random_sample((4,4))"
   ]
  },
  {
   "cell_type": "code",
   "execution_count": 13,
   "metadata": {},
   "outputs": [
    {
     "name": "stdout",
     "output_type": "stream",
     "text": [
      "0.49760174284634584\n"
     ]
    }
   ],
   "source": [
    "s = np.random.random_sample(10000)\n",
    "print(np.mean(s))"
   ]
  },
  {
   "cell_type": "code",
   "execution_count": 14,
   "metadata": {},
   "outputs": [
    {
     "data": {
      "image/png": "[encoded data removed]",
      "text/plain": [
       "<Figure size 432x288 with 1 Axes>"
      ]
     },
     "metadata": {
      "image/png": {
       "height": 251,
       "width": 383
      },
      "needs_background": "light"
     },
     "output_type": "display_data"
    }
   ],
   "source": [
    "# Call the function 10,000 times and create a list of the values it returns\n",
    "dist = [np.random.random_sample() for i in range(10000)]\n",
    "# histogram to show the distribution\n",
    "plt.hist(dist, color=\"green\")\n",
    "plt.show()"
   ]
  },
  {
   "cell_type": "markdown",
   "metadata": {},
   "source": [
    "**random()** in the np.random module generates random numbers on the interval  [0,1] . The size kwarg is how many random numbers you wish to generate. They are returned as a NumPy array."
   ]
  },
  {
   "cell_type": "code",
   "execution_count": 15,
   "metadata": {},
   "outputs": [
    {
     "data": {
      "text/plain": [
       "array([0.13097318, 0.49963656, 0.98294652, 0.76673557, 0.79426473,\n",
       "       0.31302587, 0.29431837, 0.6834668 , 0.24923175, 0.99496599])"
      ]
     },
     "execution_count": 15,
     "metadata": {},
     "output_type": "execute_result"
    }
   ],
   "source": [
    "np.random.random(10)"
   ]
  },
  {
   "cell_type": "markdown",
   "metadata": {},
   "source": [
    "We can check to make sure it is appropriately drawing random numbers out of the uniform distribution by plotting the cumulative distribution functions. We'll generate 100,000 random numbers and plot them along with the CDF."
   ]
  },
  {
   "cell_type": "code",
   "execution_count": 16,
   "metadata": {},
   "outputs": [
    {
     "data": {
      "text/plain": [
       "[<matplotlib.lines.Line2D at 0x2c31484f370>]"
      ]
     },
     "execution_count": 16,
     "metadata": {},
     "output_type": "execute_result"
    },
    {
     "data": {
      "image/png": "[encoded data removed]",
      "text/plain": [
       "<Figure size 432x288 with 1 Axes>"
      ]
     },
     "metadata": {
      "image/png": {
       "height": 251,
       "width": 374
      },
      "needs_background": "light"
     },
     "output_type": "display_data"
    }
   ],
   "source": [
    "# Generate sorted random numbers\n",
    "x = np.sort(np.random.random(100000))\n",
    "\n",
    "# Generate y-axis for CDF\n",
    "y = np.arange(1, len(x)+1) / len(x)\n",
    "\n",
    "# Plot CDF from random numbers (only plot 100 points)\n",
    "plt.plot(x[::1000], y[::1000], marker='.', linestyle='none', markersize=10)\n",
    "\n",
    "# Plot expected CDF (straight line from (0,0) to (1,1)\n",
    "plt.plot([0, 1], [0, 1], 'k-')"
   ]
  },
  {
   "cell_type": "markdown",
   "metadata": {},
   "source": [
    "**choice(a[, size, replace, p])**\n",
    "\n",
    "This method generates a random sample from a given 1-D array specified by the argument a. However, if a is set as an int, the method will run as if a were an ndarray generated from np.arange(a).\n",
    "The size argument specifies the shape of the ndarray that is returned, while the p argument is a list of floats indicating the probability of the elements in a for being drawn. It should be noted that if you set the p argument, the sum of the probability values has to be 1.0."
   ]
  },
  {
   "cell_type": "code",
   "execution_count": 17,
   "metadata": {},
   "outputs": [
    {
     "data": {
      "text/plain": [
       "array([ 8, 62, 42, 18, 42])"
      ]
     },
     "execution_count": 17,
     "metadata": {},
     "output_type": "execute_result"
    }
   ],
   "source": [
    "np.random.choice(100, 5)"
   ]
  },
  {
   "cell_type": "code",
   "execution_count": 18,
   "metadata": {},
   "outputs": [
    {
     "data": {
      "text/plain": [
       "array([[ 1, 10,  8,  1],\n",
       "       [ 2,  3,  4,  1],\n",
       "       [ 9,  2,  1,  9],\n",
       "       [ 3,  3, 10,  8]])"
      ]
     },
     "execution_count": 18,
     "metadata": {},
     "output_type": "execute_result"
    }
   ],
   "source": [
    "np.random.choice([1,2,3,4,8,9,10], size=(4, 4))"
   ]
  },
  {
   "cell_type": "code",
   "execution_count": 19,
   "metadata": {},
   "outputs": [
    {
     "data": {
      "text/plain": [
       "array([[7, 3, 7],\n",
       "       [7, 7, 7],\n",
       "       [1, 7, 7]])"
      ]
     },
     "execution_count": 19,
     "metadata": {},
     "output_type": "execute_result"
    }
   ],
   "source": [
    "np.random.choice([1,3,5,7], size=(3, 3), p=[0.2, 0.2, 0, 0.6])"
   ]
  },
  {
   "cell_type": "markdown",
   "metadata": {},
   "source": [
    "**shuffle(x) and permutation(x)**\n",
    "\n",
    "Both methods are used to permute the sequence randomly. The major difference between them is that the shuffle() method modifies the sequence in-place and returns None, while the permutation() method generates a new ndarray of the same shape after the modification."
   ]
  },
  {
   "cell_type": "code",
   "execution_count": 20,
   "metadata": {},
   "outputs": [
    {
     "data": {
      "text/plain": [
       "array([7, 8, 1, 4, 3])"
      ]
     },
     "execution_count": 20,
     "metadata": {},
     "output_type": "execute_result"
    }
   ],
   "source": [
    "a = np.array([7, 8, 1, 4, 3])\n",
    "a"
   ]
  },
  {
   "cell_type": "code",
   "execution_count": 21,
   "metadata": {},
   "outputs": [
    {
     "data": {
      "text/plain": [
       "array([3, 4, 7, 1, 8])"
      ]
     },
     "execution_count": 21,
     "metadata": {},
     "output_type": "execute_result"
    }
   ],
   "source": [
    "np.random.shuffle(a)\n",
    "a"
   ]
  },
  {
   "cell_type": "markdown",
   "metadata": {},
   "source": [
    "When we permute a multi-dimensional array, it only works on its first axis. In other words, the contents of the subarrays in a multi-dimensional array stay the same."
   ]
  },
  {
   "cell_type": "code",
   "execution_count": 22,
   "metadata": {},
   "outputs": [
    {
     "data": {
      "text/plain": [
       "array([[0.31176508, 0.59705204, 0.55925851, 0.52865707],\n",
       "       [0.20641504, 0.94843637, 0.6643259 , 0.27248688],\n",
       "       [0.15258769, 0.94637231, 0.30177467, 0.62687225],\n",
       "       [0.735288  , 0.02576569, 0.46294855, 0.16433236]])"
      ]
     },
     "execution_count": 22,
     "metadata": {},
     "output_type": "execute_result"
    }
   ],
   "source": [
    "b = np.random.random((4, 4))\n",
    "b"
   ]
  },
  {
   "cell_type": "code",
   "execution_count": 23,
   "metadata": {
    "scrolled": true
   },
   "outputs": [
    {
     "data": {
      "text/plain": [
       "array([[0.31176508, 0.59705204, 0.55925851, 0.52865707],\n",
       "       [0.735288  , 0.02576569, 0.46294855, 0.16433236],\n",
       "       [0.20641504, 0.94843637, 0.6643259 , 0.27248688],\n",
       "       [0.15258769, 0.94637231, 0.30177467, 0.62687225]])"
      ]
     },
     "execution_count": 23,
     "metadata": {},
     "output_type": "execute_result"
    }
   ],
   "source": [
    "np.random.permutation(b)"
   ]
  },
  {
   "cell_type": "markdown",
   "metadata": {},
   "source": [
    "## 3. 'Distributions' functions\n",
    "\n",
    "Probability distribution is the mathematical function that gives the probabilities of occurrence of different possible outcomes for an experiment.[1][2] It is a mathematical description of a random phenomenon in terms of its sample space and the probabilities of events (subsets of the sample space).[3]\n",
    "\n",
    "For instance, if X is used to denote the outcome of a coin toss (\"the experiment\"), then the probability distribution of X would take the value 0.5 for X = heads, and 0.5 for X = tails (assuming that the coin is fair). Examples of random phenomena include the weather condition in a future date, the height of a person, the fraction of male students in a school, the results of a survey, etc\n",
    "\n",
    "![Distribution Choice](distchoices.png)"
   ]
  },
  {
   "cell_type": "markdown",
   "metadata": {},
   "source": [
    "**standard_normal([size])**\n",
    "\n",
    "The *standard normal distribution* is a normal distribution with a mean of zero and standard deviation of 1. ... For the standard normal distribution, 68% of the observations lie within 1 standard deviation of the mean; 95% lie within two standard deviation of the mean; and 99.9% lie within 3 standard deviations of the mean.\n",
    "\n",
    "Method, can get the random samples from standard normal distribution and return the random samples as numpy array.\n",
    "\n",
    "![ standard normal distribution](normal.png)<br>\n"
   ]
  },
  {
   "cell_type": "code",
   "execution_count": 24,
   "metadata": {},
   "outputs": [
    {
     "data": {
      "text/plain": [
       "array([ 0.55124484, -0.60219501,  1.82847058, -0.13736457])"
      ]
     },
     "execution_count": 24,
     "metadata": {},
     "output_type": "execute_result"
    }
   ],
   "source": [
    "np.random.standard_normal(4)"
   ]
  },
  {
   "cell_type": "code",
   "execution_count": 25,
   "metadata": {
    "scrolled": true
   },
   "outputs": [
    {
     "data": {
      "text/plain": [
       "array([[-0.51894395, -0.53587285, -0.76554659,  1.23264823],\n",
       "       [ 1.27347075, -1.00765904,  0.00372878,  0.14014479],\n",
       "       [ 0.22727173,  0.85782822,  2.05329907, -0.47040239]])"
      ]
     },
     "execution_count": 25,
     "metadata": {},
     "output_type": "execute_result"
    }
   ],
   "source": [
    "np.random.standard_normal((3,4))"
   ]
  },
  {
   "cell_type": "markdown",
   "metadata": {},
   "source": [
    "We can draw random samples from a Normal distribution with mean  μ  and standard deviation  σ ."
   ]
  },
  {
   "cell_type": "code",
   "execution_count": 28,
   "metadata": {},
   "outputs": [
    {
     "data": {
      "image/png": "[encoded data removed]",
      "text/plain": [
       "<Figure size 432x288 with 1 Axes>"
      ]
     },
     "metadata": {
      "image/png": {
       "height": 251,
       "width": 377
      },
      "needs_background": "light"
     },
     "output_type": "display_data"
    }
   ],
   "source": [
    "# Set parameters\n",
    "mu = 10\n",
    "sigma = 1\n",
    "\n",
    "# Draw 10000 random samples\n",
    "x = np.random.normal(mu, sigma, size=10000)\n",
    "\n",
    "# Plot a histogram of our draws\n",
    "_ = plt.hist(x, bins=100)"
   ]
  },
  {
   "cell_type": "markdown",
   "metadata": {},
   "source": [
    "**Exponential distribution**\n",
    "\n",
    "The exponential distribution describes the time between events in a Poisson point process, i.e., a process in which events occur continuously and independently at a constant average rate. Values for an exponential random variable occur in the following way. There are fewer large values and more small values.\n",
    "The exponential distribution is widely used in the field of reliability.\n",
    "\n",
    "![Exponential distribution](exp.png)"
   ]
  }
 ],
 "metadata": {
  "kernelspec": {
   "display_name": "Python 3",
   "language": "python",
   "name": "python3"
  },
  "language_info": {
   "codemirror_mode": {
    "name": "ipython",
    "version": 3
   },
   "file_extension": ".py",
   "mimetype": "text/x-python",
   "name": "python",
   "nbconvert_exporter": "python",
   "pygments_lexer": "ipython3",
   "version": "3.8.3"
  }
 },
 "nbformat": 4,
 "nbformat_minor": 4
}
