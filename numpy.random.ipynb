{
 "cells": [
  {
   "cell_type": "markdown",
   "metadata": {},
   "source": [
    "# Practical Assignment - Programming for Data Analysis\n",
    "By Radek Wojtczak G00352936\n",
    "\n",
    "Numpy.Random Package\n",
    "\n",
    "In this notebook I will answer and discuss following points:\n",
    "\n",
    "1.The purpose of Numpy.Random package<br>\n",
    "2.Explanation of 'Simple random data' and 'Permutations' functions<br>\n",
    "3.Use and purpose of 'Distributions' functions such as uniform, normal, logistic, geometric, exponential and more.<br>\n",
    "4.Why use seeds in generating pseudorandom numbers."
   ]
  },
  {
   "cell_type": "markdown",
   "metadata": {},
   "source": [
    "## 1.The purpose of Numpy.Random package<br><br>\n",
    "\n",
    "### What is a Random Number?\n",
    "Random number does NOT mean a different number every time. Random means something that can not be predicted logically.<br>\n",
    "\n",
    "### Numpy.random\n",
    "is a sub package of the numpy package. The random sub package is used to generate arrays of random numbers according to different statistical probability distributions across different intervals. Numpy.random uses multi-dimensional arrays. These ndarray objects allow you to store multiple items of the same data type. These are very efficient and have added functionality making them very easy to manipulate and convenient to work with.\n",
    "\n",
    "The *numpy.ramdom* package contains four sections. The simple random data section contains 10 different functions to generate a variety of sample random data. The permutation sections contains 2 functions to shuffle or rearrange data. The distribution section contains 35 functions generating random data according to their respective statistical distribution. The random generator section containing four functions relating to the seed.\n",
    "\n",
    "They are many uses of random numbers in computing and analytics. Many elements of statistical practice depend on randomness via random numbers. Without these there is a risk that the statistical analysis could suffer from systematic bias. Simulation is used to get the results of experiments from generating random numbers simulation the events. A key use of unpredictable random numbers is in cryptogoraphy.<br>\n",
    "\n",
    "### Pseudo Random and True Random.\n",
    "Computers work on programs, and programs are definitive set of instructions. So it means there must be some algorithm to generate a random number as well.\n",
    "\n",
    "If there is a program to generate random number it can be predicted, that means it is not truly random.\n",
    "\n",
    "Random numbers generated through a generation algorithm are called pseudo random.\n",
    "\n",
    "Can we make truly random numbers?\n",
    "\n",
    "Yes. In order to generate a truly random number on our computers we need to get the random data from some outside source. This outside source is generally our keystrokes, mouse movements, data on network etc.\n",
    "\n",
    "We do not need truly random numbers, unless its related to security (e.g. encryption keys) or the basis of application is the randomness (e.g. Digital roulette wheels).\n"
   ]
  },
  {
   "cell_type": "markdown",
   "metadata": {},
   "source": [
    "## 2. Explanation of 'Simple random data' and 'Permutations' functions<br><br>\n",
    "\n",
    "###  'Simple random data'\n",
    "\n",
    "**Importing packages:**"
   ]
  },
  {
   "cell_type": "code",
   "execution_count": 1,
   "metadata": {},
   "outputs": [],
   "source": [
    "import random\n",
    "import numpy as np\n",
    "import matplotlib.pyplot as plt\n",
    "\n",
    "# Seaborn settings\n",
    "import seaborn as sns\n",
    "rc={'lines.linewidth': 2, 'axes.labelsize': 18, 'axes.titlesize': 18}\n",
    "sns.set(rc=rc)\n",
    "\n",
    "# Jupyter notebooks magic\n",
    "%matplotlib inline\n",
    "%config InlineBackend.figure_formats = {'png', 'retina'}"
   ]
  },
  {
   "cell_type": "markdown",
   "metadata": {},
   "source": [
    "**rand(d0, d1, ..., dn)**<br>\n",
    "This method generates random numbers in a given shape. The numbers specified in the rand() function correspond to the number of dimensions of the array that is to be generated. When no numbers are specified in the function, a random value will be generated.<br><br>\n",
    "Examples are given below:"
   ]
  },
  {
   "cell_type": "code",
   "execution_count": 2,
   "metadata": {
    "scrolled": false
   },
   "outputs": [
    {
     "name": "stdout",
     "output_type": "stream",
     "text": [
      "A random number: 0.7348021496044486\n",
      "A random array: [0.49589205 0.17307764 0.8694682  0.23950572 0.94325703 0.22078907\n",
      " 0.3133156  0.29053595]\n",
      "A random 2D array: [[0.23606088 0.06644558 0.58173245]\n",
      " [0.68337679 0.90894684 0.76789736]]\n"
     ]
    }
   ],
   "source": [
    "print(\"A random number: {}\".format(np.random.rand()))\n",
    "print(\"A random array: {}\".format(np.random.rand(8)))\n",
    "print(\"A random 2D array: {}\".format(np.random.rand(2,3)))"
   ]
  },
  {
   "cell_type": "code",
   "execution_count": 3,
   "metadata": {},
   "outputs": [
    {
     "data": {
      "text/plain": [
       "(array([10015., 10175.,  9838., 10006.,  9980., 10027.,  9998.,  9956.,\n",
       "         9939., 10066.]),\n",
       " array([8.07912231e-06, 1.00007109e-01, 2.00006139e-01, 3.00005169e-01,\n",
       "        4.00004198e-01, 5.00003228e-01, 6.00002258e-01, 7.00001288e-01,\n",
       "        8.00000318e-01, 8.99999347e-01, 9.99998377e-01]),\n",
       " <a list of 10 Patch objects>)"
      ]
     },
     "execution_count": 3,
     "metadata": {},
     "output_type": "execute_result"
    },
    {
     "data": {
      "image/png": "[encoded data removed]",
      "text/plain": [
       "<Figure size 432x288 with 1 Axes>"
      ]
     },
     "metadata": {
      "image/png": {
       "height": 251,
       "width": 389
      },
      "needs_background": "light"
     },
     "output_type": "display_data"
    }
   ],
   "source": [
    "# Plot a histogram of the array showning how the random distribution plots equalyy\n",
    "a = np.random.rand(100000)\n",
    "plt.hist(a)"
   ]
  },
  {
   "cell_type": "markdown",
   "metadata": {},
   "source": [
    "**randn(d0, d1, …, dn) and standard_normal([size])**<br>\n",
    "Both methods are used to generate random numbers from the standard normal distribution, the curves of which are shown in the figure below. The red curve shows you the standard normal distribution with a mean of 0 and standard deviation of 1.<br>\n",
    "![Standard Normal Distribution Shown By Read Curve (Source: Wikipedia)](radn.png)<br>\n",
    "Both methods are to draw numbers randomly from the distribution to generate arrays of the defined shape. Their usages are about the same, except that for the standard_normal() method, we need to use a tuple to set the shape size. Some common examples are given below."
   ]
  },
  {
   "cell_type": "code",
   "execution_count": 4,
   "metadata": {
    "scrolled": true
   },
   "outputs": [
    {
     "name": "stdout",
     "output_type": "stream",
     "text": [
      "[-0.90004541  2.46633446  2.03729866  0.25990891]\n",
      "[-0.42237527  0.23703088 -1.99283554 -0.07554131]\n"
     ]
    }
   ],
   "source": [
    "print(np.random.randn(4))\n",
    "print(np.random.standard_normal(4))"
   ]
  },
  {
   "cell_type": "code",
   "execution_count": 5,
   "metadata": {
    "scrolled": true
   },
   "outputs": [
    {
     "name": "stdout",
     "output_type": "stream",
     "text": [
      "[[-0.87968925  1.67580782 -0.24024359 -0.66648018]\n",
      " [ 1.54289494 -0.16544386 -0.91320395 -0.66764113]\n",
      " [ 2.62077587  0.85859419 -0.03071959  1.82860245]]\n",
      "[[-0.16690344 -1.18952777  1.59150445  0.62566367]\n",
      " [ 1.78744644  0.88101231 -0.12003517  0.3632665 ]\n",
      " [-1.15038021  1.30324568 -0.55375422  0.7229255 ]]\n"
     ]
    }
   ],
   "source": [
    "print(np.random.randn(3,4))\n",
    "print(np.random.standard_normal((3,4)))"
   ]
  },
  {
   "cell_type": "markdown",
   "metadata": {},
   "source": [
    "One thing to note is that because we know that these methods are to create a sample of numbers from the standard normal distribution, and we can verify if this is the case shown in the figure below."
   ]
  },
  {
   "cell_type": "code",
   "execution_count": 6,
   "metadata": {},
   "outputs": [
    {
     "data": {
      "image/png": "[encoded data removed]",
      "text/plain": [
       "<Figure size 432x288 with 1 Axes>"
      ]
     },
     "metadata": {
      "image/png": {
       "height": 251,
       "width": 380
      },
      "needs_background": "light"
     },
     "output_type": "display_data"
    }
   ],
   "source": [
    "mu = 0\n",
    "sigma = 1\n",
    "s = np.random.randn(100000)\n",
    "_, bins, _ = plt.hist(s, 40, density='normed')\n",
    "probilities = 1/(sigma * np.sqrt(2 * np.pi)) * np.exp( - (bins - mu)**2 / (2 * sigma**2) )\n",
    "plt.plot(bins, probilities)\n",
    "plt.show()"
   ]
  },
  {
   "cell_type": "markdown",
   "metadata": {},
   "source": [
    "**randint(low[, high, size, dtype])**<br>\n",
    "\n",
    "This method generates random integers in the shape defined by size from low (inclusive) to high (exclusive) in the discrete uniform distribution. Optionally, we can also set the dtype as int64, int, or something else, with np.int being the default value.\n",
    "One thing to note is that when we don’t set the high argument, the numbers will be generated in the range of [0, low].\n"
   ]
  },
  {
   "cell_type": "code",
   "execution_count": 7,
   "metadata": {},
   "outputs": [
    {
     "data": {
      "text/plain": [
       "58"
      ]
     },
     "execution_count": 7,
     "metadata": {},
     "output_type": "execute_result"
    }
   ],
   "source": [
    "np.random.randint(100)"
   ]
  },
  {
   "cell_type": "code",
   "execution_count": 8,
   "metadata": {},
   "outputs": [
    {
     "data": {
      "text/plain": [
       "array([64, 42,  5,  5])"
      ]
     },
     "execution_count": 8,
     "metadata": {},
     "output_type": "execute_result"
    }
   ],
   "source": [
    "np.random.randint(1, 100, 4)"
   ]
  },
  {
   "cell_type": "code",
   "execution_count": 9,
   "metadata": {},
   "outputs": [
    {
     "data": {
      "text/plain": [
       "array([[69, 41, 59, 38],\n",
       "       [35, 35, 11, 77],\n",
       "       [14, 44, 31, 86],\n",
       "       [66, 10, 57, 65]])"
      ]
     },
     "execution_count": 9,
     "metadata": {},
     "output_type": "execute_result"
    }
   ],
   "source": [
    "np.random.randint(1, 100, (4, 4))"
   ]
  },
  {
   "cell_type": "markdown",
   "metadata": {},
   "source": [
    "**random_sample([size]), random([size]), ranf([size]), and sample([size])**<br>\n",
    "\n",
    "All of these functions are to generate random floats in the shape defined by size in the range of [0.0, 1,0), which is a continuous uniform distribution.\n",
    "One thing to note that as these random numbers are drawn from the continuous uniform distribution of [0.0, 1.0), and the mean of these numbers is around 0.5, which is the half of the sum of 0.0 and 1.0."
   ]
  },
  {
   "cell_type": "code",
   "execution_count": 10,
   "metadata": {},
   "outputs": [
    {
     "data": {
      "text/plain": [
       "array([0.14211524, 0.76345317, 0.06158774, 0.04333876])"
      ]
     },
     "execution_count": 10,
     "metadata": {},
     "output_type": "execute_result"
    }
   ],
   "source": [
    "np.random.random_sample(4)"
   ]
  },
  {
   "cell_type": "code",
   "execution_count": 11,
   "metadata": {},
   "outputs": [
    {
     "data": {
      "text/plain": [
       "array([[0.32627486, 0.12209648, 0.95096735, 0.83832598],\n",
       "       [0.54905923, 0.08780131, 0.68405762, 0.24239902],\n",
       "       [0.69149314, 0.81731162, 0.60413518, 0.43585029],\n",
       "       [0.38832503, 0.06455615, 0.19304174, 0.50861667]])"
      ]
     },
     "execution_count": 11,
     "metadata": {},
     "output_type": "execute_result"
    }
   ],
   "source": [
    "np.random.random_sample((4,4))"
   ]
  },
  {
   "cell_type": "code",
   "execution_count": 12,
   "metadata": {},
   "outputs": [
    {
     "name": "stdout",
     "output_type": "stream",
     "text": [
      "0.5029011985312196\n"
     ]
    }
   ],
   "source": [
    "s = np.random.random_sample(10000)\n",
    "print(np.mean(s))"
   ]
  },
  {
   "cell_type": "code",
   "execution_count": 13,
   "metadata": {},
   "outputs": [
    {
     "data": {
      "image/png": "[encoded data removed]",
      "text/plain": [
       "<Figure size 432x288 with 1 Axes>"
      ]
     },
     "metadata": {
      "image/png": {
       "height": 251,
       "width": 383
      },
      "needs_background": "light"
     },
     "output_type": "display_data"
    }
   ],
   "source": [
    "# Call the function 10,000 times and create a list of the values it returns\n",
    "dist = [np.random.random_sample() for i in range(10000)]\n",
    "# histogram to show the distribution\n",
    "plt.hist(dist, color=\"green\")\n",
    "plt.show()"
   ]
  },
  {
   "cell_type": "markdown",
   "metadata": {},
   "source": [
    "**random()** in the np.random module generates random numbers on the interval  [0,1] . The size kwarg is how many random numbers you wish to generate. They are returned as a NumPy array."
   ]
  },
  {
   "cell_type": "code",
   "execution_count": 14,
   "metadata": {},
   "outputs": [
    {
     "data": {
      "text/plain": [
       "array([0.42527791, 0.61542324, 0.14578529, 0.58769799, 0.3073333 ,\n",
       "       0.60902743, 0.42320797, 0.95953686, 0.31918396, 0.61149189])"
      ]
     },
     "execution_count": 14,
     "metadata": {},
     "output_type": "execute_result"
    }
   ],
   "source": [
    "np.random.random(10)"
   ]
  },
  {
   "cell_type": "markdown",
   "metadata": {},
   "source": [
    "We can check to make sure it is appropriately drawing random numbers out of the uniform distribution by plotting the cumulative distribution functions. We'll generate 100,000 random numbers and plot them along with the CDF."
   ]
  },
  {
   "cell_type": "code",
   "execution_count": 15,
   "metadata": {},
   "outputs": [
    {
     "data": {
      "text/plain": [
       "[<matplotlib.lines.Line2D at 0x1971ee198e0>]"
      ]
     },
     "execution_count": 15,
     "metadata": {},
     "output_type": "execute_result"
    },
    {
     "data": {
      "image/png": "[encoded data removed]",
      "text/plain": [
       "<Figure size 432x288 with 1 Axes>"
      ]
     },
     "metadata": {
      "image/png": {
       "height": 251,
       "width": 374
      },
      "needs_background": "light"
     },
     "output_type": "display_data"
    }
   ],
   "source": [
    "# Generate sorted random numbers\n",
    "x = np.sort(np.random.random(100000))\n",
    "\n",
    "# Generate y-axis for CDF\n",
    "y = np.arange(1, len(x)+1) / len(x)\n",
    "\n",
    "# Plot CDF from random numbers (only plot 100 points)\n",
    "plt.plot(x[::1000], y[::1000], marker='.', linestyle='none', markersize=10)\n",
    "\n",
    "# Plot expected CDF (straight line from (0,0) to (1,1)\n",
    "plt.plot([0, 1], [0, 1], 'k-')"
   ]
  },
  {
   "cell_type": "markdown",
   "metadata": {},
   "source": [
    "**choice(a[, size, replace, p])**\n",
    "\n",
    "This method generates a random sample from a given 1-D array specified by the argument a. However, if a is set as an int, the method will run as if a were an ndarray generated from np.arange(a).\n",
    "The size argument specifies the shape of the ndarray that is returned, while the p argument is a list of floats indicating the probability of the elements in a for being drawn. It should be noted that if you set the p argument, the sum of the probability values has to be 1.0."
   ]
  },
  {
   "cell_type": "code",
   "execution_count": 16,
   "metadata": {},
   "outputs": [
    {
     "data": {
      "text/plain": [
       "array([15,  5, 79, 88,  5])"
      ]
     },
     "execution_count": 16,
     "metadata": {},
     "output_type": "execute_result"
    }
   ],
   "source": [
    "np.random.choice(100, 5)"
   ]
  },
  {
   "cell_type": "code",
   "execution_count": 17,
   "metadata": {},
   "outputs": [
    {
     "data": {
      "text/plain": [
       "array([[ 2,  3,  4,  1],\n",
       "       [ 9,  8,  8, 10],\n",
       "       [10,  4,  8,  8],\n",
       "       [ 8,  1,  3,  9]])"
      ]
     },
     "execution_count": 17,
     "metadata": {},
     "output_type": "execute_result"
    }
   ],
   "source": [
    "np.random.choice([1,2,3,4,8,9,10], size=(4, 4))"
   ]
  },
  {
   "cell_type": "code",
   "execution_count": 18,
   "metadata": {},
   "outputs": [
    {
     "data": {
      "text/plain": [
       "array([[1, 7, 1],\n",
       "       [7, 7, 7],\n",
       "       [7, 7, 7]])"
      ]
     },
     "execution_count": 18,
     "metadata": {},
     "output_type": "execute_result"
    }
   ],
   "source": [
    "np.random.choice([1,3,5,7], size=(3, 3), p=[0.2, 0.2, 0, 0.6])"
   ]
  },
  {
   "cell_type": "markdown",
   "metadata": {},
   "source": [
    "**shuffle(x) and permutation(x)**\n",
    "\n",
    "Both methods are used to permute the sequence randomly. The major difference between them is that the shuffle() method modifies the sequence in-place and returns None, while the permutation() method generates a new ndarray of the same shape after the modification."
   ]
  },
  {
   "cell_type": "code",
   "execution_count": 19,
   "metadata": {},
   "outputs": [
    {
     "data": {
      "text/plain": [
       "array([7, 8, 1, 4, 3])"
      ]
     },
     "execution_count": 19,
     "metadata": {},
     "output_type": "execute_result"
    }
   ],
   "source": [
    "a = np.array([7, 8, 1, 4, 3])\n",
    "a"
   ]
  },
  {
   "cell_type": "code",
   "execution_count": 20,
   "metadata": {},
   "outputs": [
    {
     "data": {
      "text/plain": [
       "array([1, 3, 4, 7, 8])"
      ]
     },
     "execution_count": 20,
     "metadata": {},
     "output_type": "execute_result"
    }
   ],
   "source": [
    "np.random.shuffle(a)\n",
    "a"
   ]
  },
  {
   "cell_type": "markdown",
   "metadata": {},
   "source": [
    "When we permute a multi-dimensional array, it only works on its first axis. In other words, the contents of the subarrays in a multi-dimensional array stay the same."
   ]
  },
  {
   "cell_type": "code",
   "execution_count": 21,
   "metadata": {},
   "outputs": [
    {
     "data": {
      "text/plain": [
       "array([[0.93461224, 0.70255719, 0.03328013, 0.75844037],\n",
       "       [0.50007959, 0.4274702 , 0.77881611, 0.98798142],\n",
       "       [0.53963434, 0.39664052, 0.85931045, 0.92378662],\n",
       "       [0.12408854, 0.29739798, 0.05149707, 0.94430007]])"
      ]
     },
     "execution_count": 21,
     "metadata": {},
     "output_type": "execute_result"
    }
   ],
   "source": [
    "b = np.random.random((4, 4))\n",
    "b"
   ]
  },
  {
   "cell_type": "code",
   "execution_count": 22,
   "metadata": {
    "scrolled": true
   },
   "outputs": [
    {
     "data": {
      "text/plain": [
       "array([[0.50007959, 0.4274702 , 0.77881611, 0.98798142],\n",
       "       [0.53963434, 0.39664052, 0.85931045, 0.92378662],\n",
       "       [0.93461224, 0.70255719, 0.03328013, 0.75844037],\n",
       "       [0.12408854, 0.29739798, 0.05149707, 0.94430007]])"
      ]
     },
     "execution_count": 22,
     "metadata": {},
     "output_type": "execute_result"
    }
   ],
   "source": [
    "np.random.permutation(b)"
   ]
  },
  {
   "cell_type": "markdown",
   "metadata": {},
   "source": [
    "## 3. 'Distributions' functions\n",
    "\n",
    "Probability distribution is the mathematical function that gives the probabilities of occurrence of different possible outcomes for an experiment.[1][2] It is a mathematical description of a random phenomenon in terms of its sample space and the probabilities of events (subsets of the sample space).[3]\n",
    "\n",
    "For instance, if X is used to denote the outcome of a coin toss (\"the experiment\"), then the probability distribution of X would take the value 0.5 for X = heads, and 0.5 for X = tails (assuming that the coin is fair). Examples of random phenomena include the weather condition in a future date, the height of a person, the fraction of male students in a school, the results of a survey, etc\n",
    "\n",
    "![Distribution Choice](dist choices.png)"
   ]
  },
  {
   "cell_type": "code",
   "execution_count": null,
   "metadata": {},
   "outputs": [],
   "source": []
  }
 ],
 "metadata": {
  "kernelspec": {
   "display_name": "Python 3",
   "language": "python",
   "name": "python3"
  },
  "language_info": {
   "codemirror_mode": {
    "name": "ipython",
    "version": 3
   },
   "file_extension": ".py",
   "mimetype": "text/x-python",
   "name": "python",
   "nbconvert_exporter": "python",
   "pygments_lexer": "ipython3",
   "version": "3.8.3"
  }
 },
 "nbformat": 4,
 "nbformat_minor": 4
}
