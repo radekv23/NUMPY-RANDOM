{
 "cells": [
  {
   "cell_type": "markdown",
   "metadata": {},
   "source": [
    "# Practical Assignment - Programming for Data Analysis\n",
    "By Radek Wojtczak G00352936\n",
    "\n",
    "Numpy.Random Package\n",
    "\n",
    "In this notebook I will answer and discuss following points:\n",
    "\n",
    "1.The purpose of Numpy.Random package<br>\n",
    "2.Explanation of 'Simple random data' and 'Permutations' functions<br>\n",
    "3.Use and purpose of 'Distributions' functions such as uniform, normal, logistic, geometric, exponential and more.<br>\n",
    "4.Why use seeds in generating pseudorandom numbers."
   ]
  },
  {
   "cell_type": "markdown",
   "metadata": {},
   "source": [
    "## 1.The purpose of Numpy.Random package<br><br>\n",
    "\n",
    "#### What is a Random Number?\n",
    "Random number does NOT mean a different number every time. Random means something that can not be predicted logically.<br>\n",
    "\n",
    "#### Numpy.random\n",
    "is a sub package of the numpy package. The random sub package is used to generate arrays of random numbers according to different statistical probability distributions across different intervals. Numpy.random uses multi-dimensional arrays. These ndarray objects allow you to store multiple items of the same data type. These are very efficient and have added functionality making them very easy to manipulate and convenient to work with.\n",
    "\n",
    "The *numpy.ramdom* package contains four sections. The simple random data section contains 10 different functions to generate a variety of sample random data. The permutation sections contains 2 functions to shuffle or rearrange data. The distribution section contains 35 functions generating random data according to their respective statistical distribution. The random generator section containing four functions relating to the seed. Each section will be looked at in more detail later in this notebook.\n",
    "\n",
    "They are many uses of random numbers in computing and analytics. Many elements of statistical practice depend on randomness via random numbers. Without these there is a risk that the statistical analysis could suffer from systematic bias. Simulation is used to get the results of experiments from generating random numbers simulation the events. A key use of unpredictable random numbers is in cryptogoraphy.<br>\n",
    "\n",
    "#### Pseudo Random and True Random.\n",
    "Computers work on programs, and programs are definitive set of instructions. So it means there must be some algorithm to generate a random number as well.\n",
    "\n",
    "If there is a program to generate random number it can be predicted, that means it is not truly random.\n",
    "\n",
    "Random numbers generated through a generation algorithm are called pseudo random.\n",
    "\n",
    "Can we make truly random numbers?\n",
    "\n",
    "Yes. In order to generate a truly random number on our computers we need to get the random data from some outside source. This outside source is generally our keystrokes, mouse movements, data on network etc.\n",
    "\n",
    "We do not need truly random numbers, unless its related to security (e.g. encryption keys) or the basis of application is the randomness (e.g. Digital roulette wheels).\n",
    "\n",
    "In this tutorial we will be using pseudo random numbers.\n",
    "\n",
    "\n",
    "\n",
    "\n"
   ]
  }
 ],
 "metadata": {
  "kernelspec": {
   "display_name": "Python 3",
   "language": "python",
   "name": "python3"
  },
  "language_info": {
   "codemirror_mode": {
    "name": "ipython",
    "version": 3
   },
   "file_extension": ".py",
   "mimetype": "text/x-python",
   "name": "python",
   "nbconvert_exporter": "python",
   "pygments_lexer": "ipython3",
   "version": "3.8.3"
  }
 },
 "nbformat": 4,
 "nbformat_minor": 4
}
